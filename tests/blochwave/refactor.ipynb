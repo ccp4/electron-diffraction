{
 "cells": [
  {
   "cell_type": "markdown",
   "id": "17d924bf-9e75-4873-9f5e-21b15b056578",
   "metadata": {},
   "source": [
    "# Test"
   ]
  },
  {
   "cell_type": "code",
   "execution_count": 23,
   "id": "4d1df419-84f9-4ef0-b1d2-7c7db9fae30a",
   "metadata": {},
   "outputs": [],
   "source": [
    "from utils import*\n",
    "from EDutils import utilities as ut\n",
    "from blochwave import bloch         ;imp.reload(bloch)\n",
    "cif_file='dat/LTA.cif'\n",
    "args = dict(keV=200,u=[1,6,15],Nmax=10,Smax=0.01,solve=True,opts='svt',thick=1000)"
   ]
  },
  {
   "cell_type": "markdown",
   "id": "efd7baea-3582-4244-b85e-993b72f9b44b",
   "metadata": {},
   "source": [
    "### Run reference \n",
    "Use the .back environement to run this one."
   ]
  },
  {
   "cell_type": "code",
   "execution_count": 2,
   "id": "98aed0aa-19c0-420a-940f-1797db389347",
   "metadata": {},
   "outputs": [
    {
     "name": "stdout",
     "output_type": "stream",
     "text": [
      "\u001b[34m...Structure factors...\u001b[39m\n",
      "\u001b[32mstructure factors updated.\u001b[39m\n",
      "\u001b[34m ...assembling 111x111 matrix (structure factor shape : (41, 41, 41)) ...             \u001b[39m\n",
      "\u001b[34m...diagonalization...\u001b[39m\n",
      "updated intensities\n",
      "\u001b[32mobject saved\n",
      "\u001b[33mdat/bloch_ref.pkl\u001b[39m\n",
      "\u001b[32mobject saved\n",
      "\u001b[33mdat/bloch_ref.pkl\u001b[39m\n"
     ]
    }
   ],
   "source": [
    "b0 = bloch.Bloch(cif_file,path='dat/ref',name='bloch_ref',**args)"
   ]
  },
  {
   "cell_type": "markdown",
   "id": "8f805436-02b5-4ba7-ac66-73f433380e88",
   "metadata": {},
   "source": [
    "## run new \n",
    "Use the .env environement to run this one"
   ]
  },
  {
   "cell_type": "code",
   "execution_count": 53,
   "id": "0dc4afba-e6e1-437f-b939-397e5e7cb102",
   "metadata": {
    "scrolled": true
   },
   "outputs": [
    {
     "name": "stdout",
     "output_type": "stream",
     "text": [
      "\u001b[34m ...assembling 111x111 matrix (structure factor shape : (41, 41, 41) ...             \u001b[39m\n",
      "\u001b[34m...diagonalization...\u001b[39m\n",
      "updated intensities\n",
      "\u001b[32mobject saved\n",
      "\u001b[33mdat/new/bloch_new.pkl\u001b[39m\n",
      "\u001b[32mobject saved\n",
      "\u001b[33mdat/new/bloch_new.pkl\u001b[39m\n",
      "[ 0 -9 -2]\n",
      "\u001b[34m ...assembling 3x3 matrix (structure factor shape : (41, 41, 41) ...             \u001b[39m\n",
      "\u001b[34m...diagonalization...\u001b[39m\n",
      "\u001b[32mobject saved\n",
      "\u001b[33mdat/new/bloch_new.pkl\u001b[39m\n",
      "                  Sw         Fg      Fg2       Vg      Uga  xi_g\n",
      "(0, 0, 0)    8.6e-15 235.0+0.0j  55246.8 1.39e-01  6.2e-02   645\n",
      "(-9, -9, 4) -1.9e-04  -5.4+0.0j     29.4 3.22e-03  1.4e-03 27987\n"
     ]
    }
   ],
   "source": [
    "imp.reload(bloch)\n",
    "# args['solve']=True\n",
    "# args['Nmax']=10\n",
    "b_new  = bloch.Bloch('dat/LTA_no_iso.cif',aniso=False,path='dat/new',name='bloch_new',**args)\n"
   ]
  },
  {
   "cell_type": "code",
   "execution_count": null,
   "id": "39ea7d5f-2893-4876-aac3-c55c09a37ee6",
   "metadata": {},
   "outputs": [],
   "source": [
    "hkl = b_new.df_G.sort_values('Swa').index[:3].tolist()\n",
    "b_new.solve(hkl=hkl,Smax=0)\n",
    "b_new.show_df_G(n=3)"
   ]
  },
  {
   "cell_type": "markdown",
   "id": "f80d5c1a-8872-4228-b0f3-27eca5b4774a",
   "metadata": {},
   "source": [
    "## compare"
   ]
  },
  {
   "cell_type": "code",
   "execution_count": 10,
   "id": "43a7dd72-5154-4c4c-8ccd-c5053d6a83fc",
   "metadata": {},
   "outputs": [
    {
     "name": "stdout",
     "output_type": "stream",
     "text": [
      "                              Ug              Ug_ref             I  \\\n",
      "(0, 0, 0)     0.000000+0.000000j  0.000000+0.000000j  8.783100e-01   \n",
      "(4, 9, -4)   -0.004528+0.000000j -0.004530-0.000000j  7.102063e-02   \n",
      "(-7, 1, 0)   -0.004540-0.000000j -0.004542+0.000000j  1.024617e-02   \n",
      "(-9, -9, 4)  -0.001425+0.000000j -0.001420+0.000000j  7.373696e-03   \n",
      "(-3, -2, 1)   0.004905+0.000000j  0.004910-0.000000j  4.359952e-03   \n",
      "...                          ...                 ...           ...   \n",
      "(10, 10, -5) -0.000659-0.000000j -0.000657-0.000000j  1.030990e-06   \n",
      "(-1, 10, -4)  0.000199-0.000000j  0.000198-0.000000j  9.787350e-07   \n",
      "(-5, -4, 2)   0.000596+0.000000j  0.000595-0.000000j  5.016593e-07   \n",
      "(-10, -6, 3)  0.000140-0.000000j  0.000140-0.000000j  3.483479e-07   \n",
      "(-4, -10, 4)  0.001354-0.000000j  0.001355-0.000000j  2.425654e-07   \n",
      "\n",
      "                     I_ref  \n",
      "(0, 0, 0)     8.782598e-01  \n",
      "(4, 9, -4)    7.106178e-02  \n",
      "(-7, 1, 0)    1.025754e-02  \n",
      "(-9, -9, 4)   7.320385e-03  \n",
      "(-3, -2, 1)   4.368513e-03  \n",
      "...                    ...  \n",
      "(10, 10, -5)  1.035841e-06  \n",
      "(-1, 10, -4)  9.707772e-07  \n",
      "(-5, -4, 2)   4.986308e-07  \n",
      "(-10, -6, 3)  3.583304e-07  \n",
      "(-4, -10, 4)  2.468298e-07  \n",
      "\n",
      "[111 rows x 4 columns]\n"
     ]
    }
   ],
   "source": [
    "b_ref =ut.load_pkl('dat/ref/bloch_ref.pkl')\n",
    "df_ref=b_ref.df_G.sort_values('I',ascending=False)[['qx','qy','qz','Sw','Ug','Fg2','I']]\n",
    "# print(df_ref.to_string())\n",
    "# b_ref.show_df_G()\n",
    "\n",
    "df_new = b_new.df_G.sort_values('I',ascending=False)[['qx','qy','qz','Sw','Ug','Fg2','I']]\n",
    "df_new['I_ref']   = df_ref.I\n",
    "df_new['Ug_ref'] = df_ref.Ug\n",
    "print(df_new.loc[df_ref.index,['Ug','Ug_ref','I','I_ref']])"
   ]
  },
  {
   "cell_type": "code",
   "execution_count": null,
   "id": "1e7b19c9-c829-4a7e-860b-99398a3e4bf2",
   "metadata": {},
   "outputs": [],
   "source": []
  }
 ],
 "metadata": {
  "kernelspec": {
   "display_name": ".env",
   "language": "python",
   "name": ".env"
  },
  "language_info": {
   "codemirror_mode": {
    "name": "ipython",
    "version": 3
   },
   "file_extension": ".py",
   "mimetype": "text/x-python",
   "name": "python",
   "nbconvert_exporter": "python",
   "pygments_lexer": "ipython3",
   "version": "3.8.10"
  }
 },
 "nbformat": 4,
 "nbformat_minor": 5
}
